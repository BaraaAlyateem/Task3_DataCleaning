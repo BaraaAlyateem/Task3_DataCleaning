{
 "cells": [
  {
   "cell_type": "markdown",
   "id": "b140954d",
   "metadata": {},
   "source": [
    "\n",
    "Cleaning data using panda lib.\n",
    "-done by Bara'a Al-Yateem"
   ]
  },
  {
   "cell_type": "code",
   "execution_count": null,
   "id": "29b0dfbc",
   "metadata": {},
   "outputs": [],
   "source": [
    "import pandas as pd \n",
    "#importing all needed libraries to use thier features"
   ]
  },
  {
   "cell_type": "code",
   "execution_count": 41,
   "id": "7c3eeac1",
   "metadata": {},
   "outputs": [],
   "source": [
    "#this is our dataset, called Employee Sample Data - A.\n",
    "df= pd.read_excel(r\"C:\\Users\\Family Laptop 1 DELL\\Downloads\\Employee Sample Data - A.xlsx\")\n",
    "#it is an excel file, we can either change it to a CSV [COMA SEPARATED VALUE] file and read it that way, or just read it as excel."
   ]
  },
  {
   "cell_type": "code",
   "execution_count": 42,
   "id": "0c886b78",
   "metadata": {},
   "outputs": [
    {
     "name": "stdout",
     "output_type": "stream",
     "text": [
      "<class 'pandas.core.frame.DataFrame'>\n",
      "RangeIndex: 1000 entries, 0 to 999\n",
      "Data columns (total 14 columns):\n",
      " #   Column         Non-Null Count  Dtype         \n",
      "---  ------         --------------  -----         \n",
      " 0   EEID           1000 non-null   object        \n",
      " 1   Full Name      998 non-null    object        \n",
      " 2   Job Title      999 non-null    object        \n",
      " 3   Department     998 non-null    object        \n",
      " 4   Business Unit  1000 non-null   object        \n",
      " 5   Gender         999 non-null    object        \n",
      " 6   Ethnicity      993 non-null    object        \n",
      " 7   Age            994 non-null    float64       \n",
      " 8   Hire Date      993 non-null    datetime64[ns]\n",
      " 9   Annual Salary  989 non-null    float64       \n",
      " 10  Bonus %        992 non-null    float64       \n",
      " 11  Country        998 non-null    object        \n",
      " 12  City           998 non-null    object        \n",
      " 13  Exit Date      85 non-null     datetime64[ns]\n",
      "dtypes: datetime64[ns](2), float64(3), object(9)\n",
      "memory usage: 109.5+ KB\n",
      "None\n"
     ]
    }
   ],
   "source": [
    "#A general look into the data, what are the types? The maximmum column and row numbers? Does the column accept null values?\n",
    "print(df.info())"
   ]
  },
  {
   "cell_type": "code",
   "execution_count": 43,
   "id": "d2a54f0e",
   "metadata": {},
   "outputs": [
    {
     "name": "stdout",
     "output_type": "stream",
     "text": [
      "0\n",
      "<class 'pandas.core.frame.DataFrame'>\n",
      "RangeIndex: 985 entries, 0 to 984\n",
      "Data columns (total 14 columns):\n",
      " #   Column         Non-Null Count  Dtype         \n",
      "---  ------         --------------  -----         \n",
      " 0   EEID           985 non-null    object        \n",
      " 1   Full Name      985 non-null    object        \n",
      " 2   Job Title      985 non-null    object        \n",
      " 3   Department     985 non-null    object        \n",
      " 4   Business Unit  985 non-null    object        \n",
      " 5   Gender         985 non-null    object        \n",
      " 6   Ethnicity      985 non-null    object        \n",
      " 7   Age            985 non-null    float64       \n",
      " 8   Hire Date      985 non-null    datetime64[ns]\n",
      " 9   Annual Salary  985 non-null    float64       \n",
      " 10  Bonus %        985 non-null    float64       \n",
      " 11  Country        985 non-null    object        \n",
      " 12  City           985 non-null    object        \n",
      " 13  Exit Date      84 non-null     datetime64[ns]\n",
      "dtypes: datetime64[ns](2), float64(3), object(9)\n",
      "memory usage: 107.9+ KB\n",
      "None\n"
     ]
    }
   ],
   "source": [
    "#B cleaning the data.\n",
    "#B.0 Duplicates?\n",
    "print(df.duplicated().to_string().count(\"True\"))\n",
    "#appears there is none. \n",
    "\n",
    "#B.1 Null cells where they shouln't be?\n",
    "#preserve much of the rows that have data in the columns we actually need. so placeholders are used.\n",
    "\n",
    "#Full Name:\n",
    "#print(df[df[\"Full Name\"].isna()==1].to_string()) #look at the null name series\n",
    "df.fillna({\"Full Name\": \"Unknown\"}, inplace=True)\n",
    "\n",
    "#Job Title:\n",
    "df.fillna({\"Job Title\": \"Unknown\"}, inplace=True)\n",
    "\n",
    "#Age,Bonus %,Hire Date:\n",
    "#used other ways to fill beacause of the types. \n",
    "df.fillna({\"Age\": df[\"Age\"].mean(), \"Bonus %\": df[\"Bonus %\"].mode()[0]}, inplace=True)\n",
    "df['Age']=df['Age'].round() # to keep all age values 2 digits. because of the mean\n",
    "\n",
    "#B.2 Dropping rows?\n",
    "\n",
    "#Department,Ethnicity,Annual Salary:\n",
    "df.dropna( subset=[\"Department\",\"Ethnicity\", \"Annual Salary\"], inplace= True)\n",
    "\n",
    "#reset the index and check on the data to make sure:\n",
    "df = df.reset_index(drop=True)\n",
    "print(df.info())\n",
    "\n",
    "#cleaning done."
   ]
  },
  {
   "cell_type": "code",
   "execution_count": 44,
   "id": "b14f9cf8",
   "metadata": {},
   "outputs": [
    {
     "name": "stdout",
     "output_type": "stream",
     "text": [
      "    EEID      Full Name   Job Title Department         Business Unit  Gender  \\\n",
      "0  EE001   Harry Potter      Wizard     Disney        Magic Division    Male   \n",
      "1  EE002  Frodo Baggins  Adventurer     Disney               Hobbits    Male   \n",
      "2  EE003     Tony Stark    Engineer     Disney      Stark Industries    Male   \n",
      "3  EE004          Simba        King     Disney               Savanna    Male   \n",
      "4  EE005        Neytiri     Warrior     Disney  The floating islands  Female   \n",
      "\n",
      "    Ethnicity   Age  Hire Date  Annual Salary  Bonus %         Country  \\\n",
      "0  Gryffindor  17.0 2010-07-31        75000.0     0.05  United Kingdom   \n",
      "1      Hobbit  50.0 2012-03-12        53000.0     0.03    Middle-earth   \n",
      "2       Human  45.0 2008-11-20       120000.0     0.07   United States   \n",
      "3        Lion   8.0 2011-09-05        95000.0     0.04         Savanah   \n",
      "4       Na'vi  28.0 2013-02-14        68000.0     0.06         Pandora   \n",
      "\n",
      "          City  Exit Date  \n",
      "0       London 2018-05-15  \n",
      "1        Shire 2019-04-01  \n",
      "2  Los Angeles 2015-12-10  \n",
      "3     The wild 2019-06-21  \n",
      "4     Hometree        NaT  \n"
     ]
    }
   ],
   "source": [
    "#C Changing the first five rows with any value.\n",
    "df.loc[:4, ['EEID','Full Name','Job Title','Department','Business Unit','Gender','Ethnicity','Age','Hire Date','Annual Salary','Bonus %','Country','City','Exit Date']] = [\n",
    "    ['EE001', 'Harry Potter', 'Wizard', 'Disney', 'Magic Division', 'Male', 'Gryffindor', 17, '2010-07-31', 75000, .05, 'United Kingdom', 'London', '2018-05-15'],\n",
    "    ['EE002', 'Frodo Baggins', 'Adventurer', 'Disney', 'Hobbits', 'Male', 'Hobbit', 50, '2012-03-12', 53000, .03, 'Middle-earth', 'Shire', '2019-04-01'],\n",
    "    ['EE003', 'Tony Stark', 'Engineer', 'Disney', 'Stark Industries', 'Male', 'Human', 45, '2008-11-20', 120000, .07, 'United States', 'Los Angeles', '2015-12-10'],\n",
    "    ['EE004', 'Simba', 'King', 'Disney', 'Savanna', 'Male', 'Lion', 8, '2011-09-05', 95000, .04, 'Savanah', 'The wild', '2019-06-21'],\n",
    "    ['EE005', 'Neytiri', 'Warrior', 'Disney', 'The floating islands', 'Female', 'Na\\'vi', 28, '2013-02-14', 68000, .06, 'Pandora', 'Hometree', '']\n",
    "]\n",
    "print(df.head(5)) #check the data."
   ]
  },
  {
   "cell_type": "code",
   "execution_count": 45,
   "id": "ca75e654",
   "metadata": {},
   "outputs": [
    {
     "name": "stdout",
     "output_type": "stream",
     "text": [
      "       EEID     Full Name       Job Title Department  Business Unit  Gender  \\\n",
      "974  E04354  Raelynn Rios  Vice President      Sales  Manufacturing  Female   \n",
      "\n",
      "    Ethnicity   Age  Hire Date  Annual Salary  Bonus %        Country  \\\n",
      "974    Latino  43.0 2016-08-21       258498.0     0.35  United States   \n",
      "\n",
      "         City Exit Date  \n",
      "974  Columbus       NaT  \n"
     ]
    }
   ],
   "source": [
    "#D Print the row with the largest salary.\n",
    "#find the largest salary\n",
    "Max_Sal_Row = df[df[\"Annual Salary\"]==df['Annual Salary'].max()]\n",
    "print(Max_Sal_Row) #check the result"
   ]
  },
  {
   "cell_type": "code",
   "execution_count": 46,
   "id": "e181fce6",
   "metadata": {},
   "outputs": [
    {
     "name": "stdout",
     "output_type": "stream",
     "text": [
      "        Department    Avg Age     Avg Annsal\n",
      "0       Accounting  43.656250  123146.947917\n",
      "1           Disney  29.600000   82200.000000\n",
      "2      Engineering  45.941558  109377.415584\n",
      "3          Finance  44.904348  123346.486957\n",
      "4  Human Resources  44.327869  118256.926230\n",
      "5               IT  44.358974   97820.388889\n",
      "6        Marketing  43.216667  129663.033333\n",
      "7            Sales  43.604317  111225.338129\n"
     ]
    }
   ],
   "source": [
    "#E Group by department, and get the average age as well as average salary.\n",
    "avg_age_sal_by_dep= df.groupby('Department')[['Age','Annual Salary']].mean().reset_index().rename(columns ={'Age':'Avg Age','Annual Salary': 'Avg Annsal'})\n",
    "print(avg_age_sal_by_dep) #check the result"
   ]
  },
  {
   "cell_type": "code",
   "execution_count": 47,
   "id": "f3643f4b",
   "metadata": {},
   "outputs": [
    {
     "name": "stdout",
     "output_type": "stream",
     "text": [
      "         Department   Ethnicity  Max Age  Min Age  Avg Annsal\n",
      "0        Accounting       Asian     64.0     25.0    114893.0\n",
      "1        Accounting       Black     51.0     30.0     91853.0\n",
      "2        Accounting   Caucasian     62.0     26.0    121159.5\n",
      "3        Accounting      Latino     62.0     26.0     92317.0\n",
      "4            Disney  Gryffindor     17.0     17.0     75000.0\n",
      "5            Disney      Hobbit     50.0     50.0     53000.0\n",
      "6            Disney       Human     45.0     45.0    120000.0\n",
      "7            Disney        Lion      8.0      8.0     95000.0\n",
      "8            Disney       Na'vi     28.0     28.0     68000.0\n",
      "9       Engineering       Asian     65.0     25.0     91230.0\n",
      "10      Engineering       Black     56.0     27.0     74412.0\n",
      "11      Engineering   Caucasian     64.0     25.0     91621.0\n",
      "12      Engineering      Latino     64.0     27.0     96818.0\n",
      "13          Finance       Asian     64.0     25.0    125329.0\n",
      "14          Finance       Black     65.0     25.0    131652.0\n",
      "15          Finance   Caucasian     64.0     25.0     98946.0\n",
      "16          Finance      Latino     65.0     25.0    124553.0\n",
      "17  Human Resources       Asian     64.0     25.0    125936.0\n",
      "18  Human Resources       Black     55.0     25.0    142318.0\n",
      "19  Human Resources   Caucasian     64.0     26.0    104162.0\n",
      "20  Human Resources      Latino     65.0     29.0    101985.0\n",
      "21               IT       Asian     65.0     25.0     90258.0\n",
      "22               IT       Black     61.0     28.0     73317.0\n",
      "23               IT   Caucasian     65.0     26.0     81218.0\n",
      "24               IT      Latino     64.0     25.0     83934.0\n",
      "25        Marketing       Asian     65.0     25.0    147752.0\n",
      "26        Marketing       Black     65.0     27.0     86075.5\n",
      "27        Marketing   Caucasian     65.0     25.0    113135.0\n",
      "28        Marketing      Latino     65.0     29.0     97063.5\n",
      "29            Sales       Asian     64.0     25.0     89528.5\n",
      "30            Sales       Black     65.0     26.0     94246.0\n",
      "31            Sales   Caucasian     63.0     26.0     96092.0\n",
      "32            Sales      Latino     61.0     26.0    113269.0\n"
     ]
    }
   ],
   "source": [
    "#F Group by department+ethnicity, and find the maximum age, minimum age, and median salary.\n",
    "agg_by_dep_eth = df.groupby(['Department', 'Ethnicity']).agg({'Age': ['max', 'min'],'Annual Salary': 'median'}).reset_index()\n",
    "agg_by_dep_eth.columns = ['Department', 'Ethnicity', 'Max Age', 'Min Age', 'Avg Annsal'] #renaming multiple columns.\n",
    "print(agg_by_dep_eth)"
   ]
  },
  {
   "cell_type": "code",
   "execution_count": 48,
   "id": "88fd47c6",
   "metadata": {},
   "outputs": [],
   "source": [
    "#G Save your work in a new Excel file \n",
    "\n",
    "#change the date format to look like original without additions.\n",
    "df['Hire Date'] = df['Hire Date'].dt.strftime('%m/%d/%Y')\n",
    "df['Exit Date'] = df['Exit Date'].dt.strftime('%m/%d/%Y')\n",
    "\n",
    "#send to excel.\n",
    "with pd.ExcelWriter('Project_Results.xlsx') as writer:\n",
    "    df.to_excel(writer, sheet_name='1-2 Clean_Data', index=False)\n",
    "    Max_Sal_Row.to_excel(writer, sheet_name='3 Max_Salary', index=False)\n",
    "    avg_age_sal_by_dep.to_excel(writer, sheet_name='4 Dept_Avg_Age_Salary', index=False)\n",
    "    agg_by_dep_eth.to_excel(writer, sheet_name='5 Dept_Ethnicity_MaxMinMedian', index=False)"
   ]
  }
 ],
 "metadata": {
  "kernelspec": {
   "display_name": "Python 3",
   "language": "python",
   "name": "python3"
  },
  "language_info": {
   "codemirror_mode": {
    "name": "ipython",
    "version": 3
   },
   "file_extension": ".py",
   "mimetype": "text/x-python",
   "name": "python",
   "nbconvert_exporter": "python",
   "pygments_lexer": "ipython3",
   "version": "3.13.5"
  }
 },
 "nbformat": 4,
 "nbformat_minor": 5
}
